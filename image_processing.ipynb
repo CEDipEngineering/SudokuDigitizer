{
 "cells": [
  {
   "cell_type": "code",
   "execution_count": 1,
   "metadata": {},
   "outputs": [],
   "source": [
    "import cv2 as cv\n",
    "from matplotlib.pyplot import imshow, show, figure\n",
    "import numpy as np\n",
    "import keras\n",
    "import copy\n",
    "from array_to_sudoku import *\n",
    "\n",
    "\n",
    "def cv2_imshow(image, figsize=(3,3)):\n",
    "    fig = figure(figsize=figsize)\n",
    "    try:\n",
    "        imshow(image[:,:,::-1])\n",
    "    except IndexError:\n",
    "        imshow(image, cmap=\"gray\")\n",
    "    show()"
   ]
  },
  {
   "cell_type": "code",
   "execution_count": 7,
   "metadata": {},
   "outputs": [],
   "source": [
    "def extract_corners(filename):\n",
    "    kernel = np.ones((3,3),np.uint8)\n",
    "    #Read original image and grayscale\n",
    "    img_original = cv.imread(filename)\n",
    "    img = cv.cvtColor(cv.imread(filename), cv.COLOR_BGR2GRAY)\n",
    "    img_copy = img.copy()\n",
    "    \n",
    "    \n",
    "    #Transform in black and white\n",
    "    imgt = cv.adaptiveThreshold(img,255,cv.ADAPTIVE_THRESH_GAUSSIAN_C, cv.THRESH_BINARY_INV,57,3)\n",
    "    \n",
    "    imgt_copy = imgt.copy()\n",
    "    #Find external countour, create mask and draw external countour on mask\n",
    "    contours, hierarchy = cv.findContours(image=imgt_copy, mode=cv.RETR_EXTERNAL, method=cv.CHAIN_APPROX_SIMPLE)\n",
    "    mask = np.zeros_like(imgt)\n",
    "    #cv2_imshow(imgt_copy)\n",
    "    max_c = 0\n",
    "    max_area = 0\n",
    "    for contorno in contours:\n",
    "        c_area = cv.contourArea(contorno)\n",
    "        if c_area > max_area:\n",
    "            max_area = c_area\n",
    "            max_c = contorno\n",
    "    cv.drawContours(image=mask, contours=[max_c], contourIdx=-1, color=(255), thickness=5, lineType=cv.LINE_4)\n",
    "    #cv2_imshow(mask)\n",
    "    corners = []\n",
    "    for i in np.linspace(1, 0, 20): # Busca de melhor parâmetro\n",
    "        #Find grid corners and draw on original image\n",
    "        corners = cv.goodFeaturesToTrack(mask, 4, i, 50)\n",
    "        if corners is None: continue\n",
    "        for corner in corners:\n",
    "            x,y = corner.ravel().astype(int)\n",
    "        corners = sorted(corners.copy().astype(np.float32).reshape(corners.shape[0], corners.shape[2]), key=lambda x: x[0])\n",
    "        if len(corners) == 4:\n",
    "            break\n",
    "    # Magical for-else loop, only enters else if finish loop without break\n",
    "    else:\n",
    "        raise Exception(\"Unable to find corners for supplied image! Are you sure it's a valid sudoku?\")\n",
    "    pts1 = []\n",
    "    a,b,c,d = corners\n",
    "    if a[1]>b[1]:\n",
    "        pts1.append(list(a))\n",
    "        pts1.append(list(b))\n",
    "    else:\n",
    "        pts1.append(list(b))\n",
    "        pts1.append(list(a))\n",
    "    if c[1]>d[1]:\n",
    "        pts1.append(list(c))\n",
    "        pts1.append(list(d))\n",
    "    else:\n",
    "        pts1.append(list(d))\n",
    "        pts1.append(list(c))\n",
    "    # Images for debugging\n",
    "    # cv2_imshow(img_original)\n",
    "    # cv2_imshow(imgt)\n",
    "    print(corners)\n",
    "    cv2_imshow(mask)\n",
    "    # pts1 = Bot-Left; Top-Left; Bot-Right; Top-Right\n",
    "    pts1 = np.array(pts1)\n",
    "    return pts1\n",
    "\n",
    "def produce_transform(filename: str, output_size: int):\n",
    "    pts1 = extract_corners(filename)\n",
    "    img_clean = cv.imread(filename)\n",
    "    pts2 = np.float32([[0,output_size], [0,0], [output_size,output_size], [output_size,0]])\n",
    "    # Draw circles on output, disabled for production, useful for debugging\n",
    "    # for val in pts1:\n",
    "    #     cv.circle(img_clean, [int(val[0]),int(val[1])], 1, (0,255,0), -1)\n",
    "    M = cv.getPerspectiveTransform(pts1,pts2)\n",
    "    dst = cv.warpPerspective(img_clean,M,(output_size,output_size))\n",
    "    #cv2_imshow(dst)\n",
    "    return dst.copy()\n",
    "\n",
    "def unsharp_mask(image, kernel_size=(7, 7), sigma=1.0, amount=1.0, threshold=0):\n",
    "    \"\"\"Return a sharpened version of the image, using an unsharp mask.\"\"\"\n",
    "    blurred = cv.GaussianBlur(image, kernel_size, sigma)\n",
    "    sharpened = float(amount + 1) * image - float(amount) * blurred\n",
    "    sharpened = np.maximum(sharpened, np.zeros(sharpened.shape))\n",
    "    sharpened = np.minimum(sharpened, 255 * np.ones(sharpened.shape))\n",
    "    sharpened = sharpened.round().astype(np.uint8)\n",
    "    if threshold > 0:\n",
    "        low_contrast_mask = np.absolute(image - blurred) < threshold\n",
    "        np.copyto(sharpened, image, where=low_contrast_mask)\n",
    "    return sharpened\n",
    "\n",
    "def adaptive_threshold_cleanup(dst):\n",
    "    clh = cv.createCLAHE(clipLimit=2.0, tileGridSize=(8,8))\n",
    "    dst = clh.apply(cv.cvtColor(dst, cv.COLOR_BGR2GRAY))\n",
    "    thresh = cv.threshold(dst, 0, 255, cv.THRESH_BINARY_INV | cv.THRESH_OTSU)[1]\n",
    "    kernel = cv.getStructuringElement(cv.MORPH_ELLIPSE, (1, 5))\n",
    "    #thresh = cv.morphologyEx(thresh, cv.MORPH_OPEN, kernel)\n",
    "    return thresh\n",
    "\n",
    "def remove_borders(cell):\n",
    "    img = np.zeros((28,28))\n",
    "    img[3:27-3, 3:27-3] = cell[3:27-3, 3:27-3]\n",
    "    return img.copy()\n",
    "\n",
    "def show_all_cells(img):\n",
    "    h, w = img.shape\n",
    "    cell_size = int(h/9)\n",
    "    min_x = 0\n",
    "    min_y = 0\n",
    "    for i in range(9):\n",
    "        for j in range(9):\n",
    "            cell_img = img[min_x:(min_x+cell_size), min_y:(min_y + cell_size)]\n",
    "            resized = cv.resize(cell_img, (28,28), interpolation = cv.INTER_AREA)\n",
    "            cv2_imshow(resized)\n",
    "            min_x += cell_size\n",
    "        min_x = 0\n",
    "        min_y += cell_size\n",
    "        \n",
    "def predict_all_cells(img, model):\n",
    "    h, w = img.shape\n",
    "    cell_size = int(h/9)\n",
    "    min_x = 0\n",
    "    min_y = 0\n",
    "    out = []\n",
    "    for i in range(9):\n",
    "        for j in range(9):\n",
    "            cell_img = img[min_y:(min_y + cell_size), min_x:(min_x+cell_size)]\n",
    "            clean_img = remove_borders(cell_img)\n",
    "            pred = model.predict(clean_img.reshape((-1,28,28,1)))\n",
    "            max_value = max(pred[0])\n",
    "            pred_index = np.where(pred[0] == max_value)\n",
    "            # print(pred_index)\n",
    "            out.append(pred_index[0])\n",
    "            min_x += cell_size\n",
    "        min_x = 0\n",
    "        min_y += cell_size\n",
    "    return out\n",
    "\n",
    "def separate_cells(img):\n",
    "    size = 28\n",
    "    return result.reshape(result.shape[0]//size, size, -1, size).swapaxes(1,2).reshape(-1, size, size)/255.0\n",
    "\n",
    "def analise_cell(cell):\n",
    "    return int(cell[5:24, 5:24].sum() > 10)\n",
    "\n",
    "def get_cell_array(img):\n",
    "    t = separate_cells(result)\n",
    "    return [analise_cell(i) for i in t]\n",
    "\n",
    "def digitize(img):\n",
    "    model = keras.models.load_model('./CNN_MNIST_v1')\n",
    "    cell_arr = get_cell_array(result)\n",
    "    preds = predict_all_cells(result, model)\n",
    "    return np.array([c*p[0] for c,p in zip(cell_arr,preds)]).reshape((9,9))\n"
   ]
  },
  {
   "cell_type": "code",
   "execution_count": 8,
   "metadata": {},
   "outputs": [
    {
     "name": "stdout",
     "output_type": "stream",
     "text": [
      "[array([ 101., 1016.], dtype=float32), array([118., 311.], dtype=float32), array([808., 308.], dtype=float32), array([ 836., 1012.], dtype=float32)]\n"
     ]
    },
    {
     "data": {
      "image/png": "[encoded data removed]",
      "text/plain": [
       "<Figure size 216x216 with 1 Axes>"
      ]
     },
     "metadata": {
      "needs_background": "light"
     },
     "output_type": "display_data"
    },
    {
     "data": {
      "image/png": "[encoded data removed]",
      "text/plain": [
       "<Figure size 216x216 with 1 Axes>"
      ]
     },
     "metadata": {
      "needs_background": "light"
     },
     "output_type": "display_data"
    }
   ],
   "source": [
    "result = adaptive_threshold_cleanup(produce_transform('sudoku\\jpg\\image1072.jpg', 9*28))\n",
    "cv2_imshow(result)"
   ]
  },
  {
   "cell_type": "code",
   "execution_count": null,
   "metadata": {},
   "outputs": [],
   "source": [
    "print_sudoku(digitize(result))"
   ]
  }
 ],
 "metadata": {
  "interpreter": {
   "hash": "3b82ffb8f63a65f97edc8eead08b59bff0a21b7bdc405bed8f17b254f964212d"
  },
  "kernelspec": {
   "display_name": "Python 3.9.7 64-bit",
   "name": "python3"
  },
  "language_info": {
   "codemirror_mode": {
    "name": "ipython",
    "version": 3
   },
   "file_extension": ".py",
   "mimetype": "text/x-python",
   "name": "python",
   "nbconvert_exporter": "python",
   "pygments_lexer": "ipython3",
   "version": "3.9.7"
  }
 },
 "nbformat": 4,
 "nbformat_minor": 2
}
