{
 "cells": [
  {
   "cell_type": "code",
   "execution_count": 1,
   "metadata": {},
   "outputs": [],
   "source": [
    "# !pip install python-mnist\n",
    "#Imports and confusion matrix function\n",
    "import matplotlib.pyplot as plt\n",
    "from sklearn import datasets, svm, metrics\n",
    "from sklearn.model_selection import train_test_split\n",
    "from sklearn.ensemble import RandomForestClassifier\n",
    "from sklearn.metrics import confusion_matrix\n",
    "import scipy.io\n",
    "import numpy as np\n",
    "# from mnist import MNIST\n",
    "from keras.datasets import mnist\n",
    "import keras\n",
    "from computerized_digits import make_training_array\n",
    "\n",
    "def plot_confusion_matrix(y_true, y_pred, classes,\n",
    "                          normalize=True,\n",
    "                          title=None,\n",
    "                          cmap=plt.cm.Greens, save_to_file = True):\n",
    "    if not title:\n",
    "        if normalize:\n",
    "            title = 'Normalized confusion matrix'\n",
    "        else:\n",
    "            title = 'Confusion matrix, without normalization'\n",
    "\n",
    "    # Compute confusion matrix\n",
    "    cm = confusion_matrix(y_true, y_pred)\n",
    "    if normalize:\n",
    "        cm = cm.astype('float') / cm.sum(axis=1)[:, np.newaxis]\n",
    "        #print(\"Normalized confusion matrix\")\n",
    "    else:\n",
    "        print('Confusion matrix, without normalization')\n",
    "\n",
    "    #print(cm)\n",
    "\n",
    "    fig, ax = plt.subplots(figsize = (16,16))\n",
    "    im = ax.imshow(cm, interpolation='nearest', cmap=cmap)\n",
    "    ax.figure.colorbar(im, ax=ax)\n",
    "    ax.set(xticks=np.arange(cm.shape[1]),\n",
    "           yticks=np.arange(cm.shape[0]),\n",
    "           xticklabels=classes, yticklabels=classes,\n",
    "           title=title,\n",
    "           ylabel='True label',\n",
    "           xlabel='Predicted label')\n",
    "\n",
    "    plt.setp(ax.get_xticklabels(), rotation=45, ha=\"right\",\n",
    "             rotation_mode=\"anchor\")\n",
    "\n",
    "    fmt = '.2f' if normalize else 'd'\n",
    "    thresh = cm.max() / 2.\n",
    "    for i in range(cm.shape[0]):\n",
    "        for j in range(cm.shape[1]):\n",
    "            ax.text(j, i, format(cm[i, j], fmt),\n",
    "                    ha=\"center\", va=\"center\",\n",
    "                    color=\"white\" if cm[i, j] > thresh else \"black\")\n",
    "    fig.tight_layout()\n",
    "   # if save_to_file:\n",
    "    #    plt.savefig('Assets/files/' + title + '.pdf')\n",
    "    return ax"
   ]
  },
  {
   "cell_type": "code",
   "execution_count": 3,
   "metadata": {},
   "outputs": [],
   "source": [
    "(train_X, train_y), (test_X, test_y) = mnist.load_data()\n",
    "train_arr = make_training_array(7500)\n",
    "artif_train_X = []\n",
    "artif_train_Y = []\n",
    "for k in train_arr.keys():\n",
    "    for sample in train_arr[k]:\n",
    "        artif_train_X.append(np.array(sample))\n",
    "        artif_train_Y.append(int(k))\n",
    "artif_train_X = np.array(artif_train_X) \n",
    "artif_train_Y = np.array(artif_train_Y)\n",
    "train_X = np.vstack([artif_train_X,train_X])\n",
    "train_y = np.hstack([artif_train_Y,train_y])\n",
    "# Shuffle in unison\n",
    "p = np.random.permutation(len(train_y))\n",
    "train_X = train_X[p]\n",
    "train_y = train_y[p]\n"
   ]
  },
  {
   "cell_type": "code",
   "execution_count": 4,
   "metadata": {},
   "outputs": [
    {
     "name": "stdout",
     "output_type": "stream",
     "text": [
      "0.9685\n"
     ]
    }
   ],
   "source": [
    "#Create model and fit\n",
    "model_mnist = RandomForestClassifier()\n",
    "model_mnist.fit(train_X.reshape(train_X.shape[0],28*28),train_y)\n",
    "#Model Score\n",
    "prediction_mnist = model_mnist.score(test_X.reshape(test_X.shape[0], 28*28), test_y)\n",
    "print(prediction_mnist)"
   ]
  },
  {
   "cell_type": "code",
   "execution_count": 5,
   "metadata": {},
   "outputs": [],
   "source": [
    "model = keras.models.Sequential([\n",
    "    keras.layers.Conv2D(activation='relu', padding=\"SAME\", filters=64, kernel_size=7, input_shape=[28, 28, 1]),\n",
    "    keras.layers.BatchNormalization(),\n",
    "    keras.layers.MaxPooling2D(pool_size=2),\n",
    "    keras.layers.BatchNormalization(),\n",
    "    keras.layers.Conv2D(kernel_size=3, activation='relu', padding=\"SAME\", filters=128),\n",
    "    keras.layers.Conv2D(kernel_size=3, activation='relu', padding=\"SAME\", filters=128),\n",
    "    keras.layers.BatchNormalization(),\n",
    "    keras.layers.MaxPooling2D(pool_size=2),\n",
    "    keras.layers.BatchNormalization(),\n",
    "    keras.layers.Conv2D(kernel_size=3, activation='relu', padding=\"SAME\", filters=256),\n",
    "    keras.layers.Conv2D(kernel_size=3, activation='relu', padding=\"SAME\", filters=256),\n",
    "    keras.layers.BatchNormalization(),\n",
    "    keras.layers.MaxPooling2D(pool_size=2),\n",
    "    keras.layers.BatchNormalization(),\n",
    "    keras.layers.Flatten(),\n",
    "    keras.layers.Dense(units=128, activation='relu'),\n",
    "    keras.layers.Dropout(0.3),\n",
    "    keras.layers.Dense(units=96, activation='relu'),\n",
    "    keras.layers.Dropout(0.3),\n",
    "    keras.layers.Dense(units=64, activation='relu'),\n",
    "    keras.layers.Dropout(0.3),\n",
    "    keras.layers.Dense(units=10, activation='softmax'),\n",
    "])"
   ]
  },
  {
   "cell_type": "code",
   "execution_count": 6,
   "metadata": {},
   "outputs": [
    {
     "name": "stdout",
     "output_type": "stream",
     "text": [
      "Epoch 1/10\n",
      "3985/3985 [==============================] - 105s 25ms/step - loss: 0.1830 - accuracy: 0.9469\n",
      "Epoch 2/10\n",
      "3985/3985 [==============================] - 100s 25ms/step - loss: 0.0532 - accuracy: 0.9890\n",
      "Epoch 3/10\n",
      "3985/3985 [==============================] - 100s 25ms/step - loss: 0.0433 - accuracy: 0.9912\n",
      "Epoch 4/10\n",
      "3985/3985 [==============================] - 101s 25ms/step - loss: 0.0355 - accuracy: 0.9929\n",
      "Epoch 5/10\n",
      "3985/3985 [==============================] - 101s 25ms/step - loss: 0.0280 - accuracy: 0.9941\n",
      "Epoch 6/10\n",
      "3985/3985 [==============================] - 101s 25ms/step - loss: 0.0246 - accuracy: 0.9948\n",
      "Epoch 7/10\n",
      "3985/3985 [==============================] - 101s 25ms/step - loss: 0.0234 - accuracy: 0.9950\n",
      "Epoch 8/10\n",
      "3985/3985 [==============================] - 101s 25ms/step - loss: 0.0214 - accuracy: 0.9958\n",
      "Epoch 9/10\n",
      "3985/3985 [==============================] - 98s 25ms/step - loss: 0.0193 - accuracy: 0.9961\n",
      "Epoch 10/10\n",
      "3985/3985 [==============================] - 95s 24ms/step - loss: 0.0178 - accuracy: 0.9964\n",
      "313/313 [==============================] - 2s 5ms/step - loss: 0.0683 - accuracy: 0.9922\n"
     ]
    }
   ],
   "source": [
    "# (train_X, train_y), (test_X, test_y)\n",
    "model.compile(loss=\"sparse_categorical_crossentropy\", optimizer=\"nadam\", metrics=[\"accuracy\"])\n",
    "history = model.fit(train_X.reshape((-1,28,28,1)), train_y, epochs=10)\n",
    "score = model.evaluate(test_X, test_y)\n",
    "X_new = test_X[:10] # pretend we have new images\n",
    "y_pred = model.predict(X_new)"
   ]
  },
  {
   "cell_type": "code",
   "execution_count": 7,
   "metadata": {},
   "outputs": [
    {
     "data": {
      "text/plain": [
       "([7, 2, 1, 0, 4, 1, 4, 9, 5, 9], [7, 2, 1, 0, 4, 1, 4, 9, 5, 9])"
      ]
     },
     "execution_count": 7,
     "metadata": {},
     "output_type": "execute_result"
    }
   ],
   "source": [
    "list(map(lambda x: list(x).index(max(x)), y_pred)), list(test_y[:10])"
   ]
  },
  {
   "cell_type": "code",
   "execution_count": 8,
   "metadata": {},
   "outputs": [
    {
     "name": "stdout",
     "output_type": "stream",
     "text": [
      "INFO:tensorflow:Assets written to: CNN_MNIST_COMP_v3\\assets\n"
     ]
    }
   ],
   "source": [
    "model.save('CNN_MNIST_COMP_v3')"
   ]
  },
  {
   "cell_type": "code",
   "execution_count": 12,
   "metadata": {},
   "outputs": [
    {
     "name": "stdout",
     "output_type": "stream",
     "text": [
      "Improvement over random forest is 403.847%\n"
     ]
    }
   ],
   "source": [
    "print(f'Improvement over random forest is {100*((1-prediction_mnist)/(1-score[1])):.03f}%')"
   ]
  }
 ],
 "metadata": {
  "interpreter": {
   "hash": "3b82ffb8f63a65f97edc8eead08b59bff0a21b7bdc405bed8f17b254f964212d"
  },
  "kernelspec": {
   "display_name": "Python 3.9.7 64-bit",
   "name": "python3"
  },
  "language_info": {
   "codemirror_mode": {
    "name": "ipython",
    "version": 3
   },
   "file_extension": ".py",
   "mimetype": "text/x-python",
   "name": "python",
   "nbconvert_exporter": "python",
   "pygments_lexer": "ipython3",
   "version": "3.9.7"
  }
 },
 "nbformat": 4,
 "nbformat_minor": 2
}
